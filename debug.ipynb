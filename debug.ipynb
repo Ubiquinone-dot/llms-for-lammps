{
 "cells": [
  {
   "cell_type": "code",
   "execution_count": 1,
   "metadata": {},
   "outputs": [],
   "source": [
    "from main import *\n",
    "import importlib"
   ]
  },
  {
   "cell_type": "code",
   "execution_count": 2,
   "metadata": {},
   "outputs": [],
   "source": [
    "messages = [\n",
    "        {\n",
    "        \"role\": \"system\",\n",
    "        \"content\": \"You are an expert computational materials scientist. \\nYou are trying to develop an experiment to crystallise carbon into diamond.\\nPredict appropriate code for a melt-quench simulation of this system. \\nTry NOT to use an extremely large number of timesteps.\\nThe format of the code should be a LAMMPS input file like:\\n# Phase PHASE:\\nfix integrate all nvt temp T_INITIAL T_FINAL 0.1\\nrun TIMESTEPS\\nunfix integrate\\n\"\n",
    "        },\n",
    "        {\n",
    "        \"role\": \"user\",\n",
    "        \"content\": \"RESULT:\\nSOAP similarity to diamond is 0.1\\nSOAP similarity to graphite is 0.9\\n\\nSCRIPT:\"\n",
    "        },\n",
    "        {\n",
    "        \"role\": \"assistant\",\n",
    "        \"content\": \"# Phase 1: \\nfix integrate all nvt temp 9000 9000 0.1\\nrun 100000\\nunfix integrate\\n\\n# Phase 2: \\nfix integrate all nvt temp 9000 3000 0.1\\nrun 100000 \\nunfix integrate\\n\\n# Phase 3: \\nfix integrate all nvt temp 3000 500 0.1\\nrun 100000 \\nunfix integrate\\n\\n# Phase 4:\\nfix integrate all nvt temp 500 500 0.1\\nrun 100000 \\nunfix integrate\\n\\n# Phase 5:\\nfix integrate all nvt temp 500 300 0.1\\nrun 100000\\nunfix integrate\"\n",
    "        },\n",
    "        {\n",
    "        \"role\": \"user\",\n",
    "        \"content\": \"RESULT:\\nSOAP similarity to diamond is 1.0\\nSOAP similarity to graphite is 0.0\\n\\nSCRIPT:\"\n",
    "        },\n",
    "    ]\n"
   ]
  },
  {
   "cell_type": "code",
   "execution_count": 3,
   "metadata": {},
   "outputs": [
    {
     "name": "stdout",
     "output_type": "stream",
     "text": [
      "{\n",
      "  \"choices\": [\n",
      "    {\n",
      "      \"finish_reason\": \"stop\",\n",
      "      \"index\": 0,\n",
      "      \"message\": {\n",
      "        \"content\": \"# Phase 1: \\nfix integrate all nvt temp 5000 5000 0.1\\nrun 50000\\nunfix integrate\\n\\n# Phase 2: \\nfix integrate all nvt temp 5000 3000 0.1\\nrun 50000 \\nunfix integrate\\n\\n# Phase 3: \\nfix integrate all nvt temp 3000 1000 0.1\\nrun 50000 \\nunfix integrate\\n\\n# Phase 4:\\nfix integrate all nvt temp 1000 1000 0.1\\nrun 50000 \\nunfix integrate\\n\\n# Phase 5:\\nfix integrate all nvt temp 1000 300 0.1\\nrun 50000\\nunfix integrate\",\n",
      "        \"role\": \"assistant\"\n",
      "      }\n",
      "    }\n",
      "  ],\n",
      "  \"created\": 1698436785,\n",
      "  \"id\": \"chatcmpl-8ENHdynfQ0HCYct3ZkTIMOh5KdiuM\",\n",
      "  \"model\": \"gpt-4-0613\",\n",
      "  \"object\": \"chat.completion\",\n",
      "  \"usage\": {\n",
      "    \"completion_tokens\": 156,\n",
      "    \"prompt_tokens\": 313,\n",
      "    \"total_tokens\": 469\n",
      "  }\n",
      "}\n",
      "[{'role': 'system', 'content': 'You are an expert computational materials scientist. \\nYou are trying to develop an experiment to crystallise carbon into diamond.\\nPredict appropriate code for a melt-quench simulation of this system. \\nTry NOT to use an extremely large number of timesteps.\\nThe format of the code should be a LAMMPS input file like:\\n# Phase PHASE:\\nfix integrate all nvt temp T_INITIAL T_FINAL 0.1\\nrun TIMESTEPS\\nunfix integrate\\n'}, {'role': 'user', 'content': 'RESULT:\\nSOAP similarity to diamond is 0.1\\nSOAP similarity to graphite is 0.9\\n\\nSCRIPT:'}, {'role': 'assistant', 'content': '# Phase 1: \\nfix integrate all nvt temp 9000 9000 0.1\\nrun 100000\\nunfix integrate\\n\\n# Phase 2: \\nfix integrate all nvt temp 9000 3000 0.1\\nrun 100000 \\nunfix integrate\\n\\n# Phase 3: \\nfix integrate all nvt temp 3000 500 0.1\\nrun 100000 \\nunfix integrate\\n\\n# Phase 4:\\nfix integrate all nvt temp 500 500 0.1\\nrun 100000 \\nunfix integrate\\n\\n# Phase 5:\\nfix integrate all nvt temp 500 300 0.1\\nrun 100000\\nunfix integrate'}, {'role': 'user', 'content': 'RESULT:\\nSOAP similarity to diamond is 1.0\\nSOAP similarity to graphite is 0.0\\n\\nSCRIPT:'}, <OpenAIObject at 0x7f74f999f330> JSON: {\n",
      "  \"content\": \"# Phase 1: \\nfix integrate all nvt temp 5000 5000 0.1\\nrun 50000\\nunfix integrate\\n\\n# Phase 2: \\nfix integrate all nvt temp 5000 3000 0.1\\nrun 50000 \\nunfix integrate\\n\\n# Phase 3: \\nfix integrate all nvt temp 3000 1000 0.1\\nrun 50000 \\nunfix integrate\\n\\n# Phase 4:\\nfix integrate all nvt temp 1000 1000 0.1\\nrun 50000 \\nunfix integrate\\n\\n# Phase 5:\\nfix integrate all nvt temp 1000 300 0.1\\nrun 50000\\nunfix integrate\",\n",
      "  \"role\": \"assistant\"\n",
      "}]\n",
      "# Phase 1: \n",
      "fix integrate all nvt temp 5000 5000 0.1\n",
      "run 50000\n",
      "unfix integrate\n",
      "\n",
      "# Phase 2: \n",
      "fix integrate all nvt temp 5000 3000 0.1\n",
      "run 50000 \n",
      "unfix integrate\n",
      "\n",
      "# Phase 3: \n",
      "fix integrate all nvt temp 3000 1000 0.1\n",
      "run 50000 \n",
      "unfix integrate\n",
      "\n",
      "# Phase 4:\n",
      "fix integrate all nvt temp 1000 1000 0.1\n",
      "run 50000 \n",
      "unfix integrate\n",
      "\n",
      "# Phase 5:\n",
      "fix integrate all nvt temp 1000 300 0.1\n",
      "run 50000\n",
      "unfix integrate\n"
     ]
    }
   ],
   "source": [
    "code, messages, response = query_llm(messages)"
   ]
  },
  {
   "cell_type": "code",
   "execution_count": 4,
   "metadata": {},
   "outputs": [
    {
     "data": {
      "text/plain": [
       "'# Phase 1: \\nfix integrate all nvt temp 5000 5000 0.1\\nrun 50000\\nunfix integrate\\n\\n# Phase 2: \\nfix integrate all nvt temp 5000 3000 0.1\\nrun 50000 \\nunfix integrate\\n\\n# Phase 3: \\nfix integrate all nvt temp 3000 1000 0.1\\nrun 50000 \\nunfix integrate\\n\\n# Phase 4:\\nfix integrate all nvt temp 1000 1000 0.1\\nrun 50000 \\nunfix integrate\\n\\n# Phase 5:\\nfix integrate all nvt temp 1000 300 0.1\\nrun 50000\\nunfix integrate'"
      ]
     },
     "execution_count": 4,
     "metadata": {},
     "output_type": "execute_result"
    }
   ],
   "source": [
    "code"
   ]
  },
  {
   "cell_type": "code",
   "execution_count": 5,
   "metadata": {},
   "outputs": [
    {
     "data": {
      "text/plain": [
       "'\\nlog /home/jbutch/Projects/Thesis/llms-for-lammps/log.dat append\\n\\nunits metal     # mass = g/mole, distance = Å, time = ps, energy = eV, force = eV/Å\\natom_style atomic\\nread_data /home/jbutch/Projects/Thesis/llms-for-lammps/structures/example.extxyz\\nmass * 12.011   # all atoms are Carbon and therefore have mass ~12\\n\\npair_style quip\\npair_coeff * * /home/jbutch/Projects/Thesis/llms-for-lammps/data/carbon.xml \"\" 6\\n\\nneigh_modify every 1 delay 0 check yes\\ntimestep 0.001\\n\\nvariable nAtoms equal atoms\\n\\nfix removeMomentum all momentum 1 linear 1 1 1\\n\\ncompute T all temp\\nvariable P equal press\\nvariable v equal vol\\nvariable PE_Atom equal c_PE/v_nAtoms\\n\\nfix TempAve all ave/time 100000 1e-06 100 c_T\\nfix PressAve all ave/time 100000 1e-06 100 v_P\\nfix vAve all ave/time 100000 1e-06 100 v_v\\nfix PEAve_Atom all ave/time 100000 1e-06 100 v_PE_Atom\\n\\ncompute PE all pe pair\\ncompute MSD all msd\\n\\nthermo_style custom step cpu temp f_TempAve press f_PressAve f_PEAve_Atom vol f_vAve c_MSD[4]\\nthermo_modify flush yes\\nthermo 100000\\n\\ndump traj all atom 100000 /home/jbutch/Projects/Thesis/llms-for-lammps/dump_file.dump.*.dat\\n\\nvelocity all create 3000 42\\n\\nrun 0\\n\\n# PHASES:\\n'"
      ]
     },
     "execution_count": 5,
     "metadata": {},
     "output_type": "execute_result"
    }
   ],
   "source": [
    "s = format_experiment()\n",
    "s"
   ]
  },
  {
   "cell_type": "code",
   "execution_count": 9,
   "metadata": {},
   "outputs": [
    {
     "name": "stdout",
     "output_type": "stream",
     "text": [
      "\n",
      "log /home/jbutch/Projects/Thesis/llms-for-lammps/log.dat append\n",
      "\n",
      "units metal     # mass = g/mole, distance = Å, time = ps, energy = eV, force = eV/Å\n",
      "atom_style atomic\n",
      "read_data /home/jbutch/Projects/Thesis/llms-for-lammps/structures/example.extxyz\n",
      "mass * 12.011   # all atoms are Carbon and therefore have mass ~12\n",
      "\n",
      "pair_style quip\n",
      "pair_coeff * * /home/jbutch/Projects/Thesis/llms-for-lammps/data/carbon.xml \"\" 6\n",
      "\n",
      "neigh_modify every 1 delay 0 check yes\n",
      "timestep 0.001\n",
      "\n",
      "variable nAtoms equal atoms\n",
      "\n",
      "fix removeMomentum all momentum 1 linear 1 1 1\n",
      "\n",
      "compute T all temp\n",
      "variable P equal press\n",
      "variable v equal vol\n",
      "variable PE_Atom equal c_PE/v_nAtoms\n",
      "\n",
      "fix TempAve all ave/time 100000 1e-06 100 c_T\n",
      "fix PressAve all ave/time 100000 1e-06 100 v_P\n",
      "fix vAve all ave/time 100000 1e-06 100 v_v\n",
      "fix PEAve_Atom all ave/time 100000 1e-06 100 v_PE_Atom\n",
      "\n",
      "compute PE all pe pair\n",
      "compute MSD all msd\n",
      "\n",
      "thermo_style custom step cpu temp f_TempAve press f_PressAve f_PEAve_Atom vol f_vAve c_MSD[4]\n",
      "thermo_modify flush yes\n",
      "thermo 100000\n",
      "\n",
      "dump traj all atom 100000 /home/jbutch/Projects/Thesis/llms-for-lammps/dump_file.dump.*.dat\n",
      "\n",
      "velocity all create 3000 42\n",
      "\n",
      "run 0\n",
      "\n",
      "# PHASES:\n",
      "# Phase 1: \n",
      "fix integrate all nvt temp 5000 5000 0.1\n",
      "run 50000\n",
      "unfix integrate\n",
      "\n",
      "# Phase 2: \n",
      "fix integrate all nvt temp 5000 3000 0.1\n",
      "run 50000 \n",
      "unfix integrate\n",
      "\n",
      "# Phase 3: \n",
      "fix integrate all nvt temp 3000 1000 0.1\n",
      "run 50000 \n",
      "unfix integrate\n",
      "\n",
      "# Phase 4:\n",
      "fix integrate all nvt temp 1000 1000 0.1\n",
      "run 50000 \n",
      "unfix integrate\n",
      "\n",
      "# Phase 5:\n",
      "fix integrate all nvt temp 1000 300 0.1\n",
      "run 50000\n",
      "unfix integrate\n"
     ]
    }
   ],
   "source": [
    "full_code = s + code\n",
    "f_in=\"/home/jbutch/Projects/Thesis/llms-for-lammps/lammps/test.in\"\n",
    "with open(f_in, \"w\") as f:\n",
    "    f.write(full_code)\n",
    "\n",
    "print(full_code)"
   ]
  },
  {
   "cell_type": "code",
   "execution_count": 11,
   "metadata": {},
   "outputs": [
    {
     "ename": "FileNotFoundError",
     "evalue": "[Errno 2] No such file or directory: 'qsub'",
     "output_type": "error",
     "traceback": [
      "\u001b[0;31m---------------------------------------------------------------------------\u001b[0m",
      "\u001b[0;31mFileNotFoundError\u001b[0m                         Traceback (most recent call last)",
      "\u001b[1;32m/home/jbutch/Projects/Thesis/llms-for-lammps/debug.ipynb Cell 7\u001b[0m line \u001b[0;36m6\n\u001b[1;32m      <a href='vscode-notebook-cell:/home/jbutch/Projects/Thesis/llms-for-lammps/debug.ipynb#W6sZmlsZQ%3D%3D?line=2'>3</a>\u001b[0m \u001b[39mimport\u001b[39;00m \u001b[39mre\u001b[39;00m\n\u001b[1;32m      <a href='vscode-notebook-cell:/home/jbutch/Projects/Thesis/llms-for-lammps/debug.ipynb#W6sZmlsZQ%3D%3D?line=4'>5</a>\u001b[0m \u001b[39m# Submit the job and capture the output\u001b[39;00m\n\u001b[0;32m----> <a href='vscode-notebook-cell:/home/jbutch/Projects/Thesis/llms-for-lammps/debug.ipynb#W6sZmlsZQ%3D%3D?line=5'>6</a>\u001b[0m result \u001b[39m=\u001b[39m subprocess\u001b[39m.\u001b[39;49mrun([\u001b[39m'\u001b[39;49m\u001b[39mqsub\u001b[39;49m\u001b[39m'\u001b[39;49m, \u001b[39m'\u001b[39;49m\u001b[39msubmit.sh\u001b[39;49m\u001b[39m'\u001b[39;49m], stdout\u001b[39m=\u001b[39;49msubprocess\u001b[39m.\u001b[39;49mPIPE, text\u001b[39m=\u001b[39;49m\u001b[39mTrue\u001b[39;49;00m)\n\u001b[1;32m      <a href='vscode-notebook-cell:/home/jbutch/Projects/Thesis/llms-for-lammps/debug.ipynb#W6sZmlsZQ%3D%3D?line=6'>7</a>\u001b[0m output \u001b[39m=\u001b[39m result\u001b[39m.\u001b[39mstdout\n\u001b[1;32m      <a href='vscode-notebook-cell:/home/jbutch/Projects/Thesis/llms-for-lammps/debug.ipynb#W6sZmlsZQ%3D%3D?line=7'>8</a>\u001b[0m \u001b[39mprint\u001b[39m(\u001b[39m'\u001b[39m\u001b[39mSubmission output:\u001b[39m\u001b[39m'\u001b[39m, output)\n",
      "File \u001b[0;32m~/anaconda3/envs/oai/lib/python3.10/subprocess.py:503\u001b[0m, in \u001b[0;36mrun\u001b[0;34m(input, capture_output, timeout, check, *popenargs, **kwargs)\u001b[0m\n\u001b[1;32m    500\u001b[0m     kwargs[\u001b[39m'\u001b[39m\u001b[39mstdout\u001b[39m\u001b[39m'\u001b[39m] \u001b[39m=\u001b[39m PIPE\n\u001b[1;32m    501\u001b[0m     kwargs[\u001b[39m'\u001b[39m\u001b[39mstderr\u001b[39m\u001b[39m'\u001b[39m] \u001b[39m=\u001b[39m PIPE\n\u001b[0;32m--> 503\u001b[0m \u001b[39mwith\u001b[39;00m Popen(\u001b[39m*\u001b[39;49mpopenargs, \u001b[39m*\u001b[39;49m\u001b[39m*\u001b[39;49mkwargs) \u001b[39mas\u001b[39;00m process:\n\u001b[1;32m    504\u001b[0m     \u001b[39mtry\u001b[39;00m:\n\u001b[1;32m    505\u001b[0m         stdout, stderr \u001b[39m=\u001b[39m process\u001b[39m.\u001b[39mcommunicate(\u001b[39minput\u001b[39m, timeout\u001b[39m=\u001b[39mtimeout)\n",
      "File \u001b[0;32m~/anaconda3/envs/oai/lib/python3.10/subprocess.py:971\u001b[0m, in \u001b[0;36mPopen.__init__\u001b[0;34m(self, args, bufsize, executable, stdin, stdout, stderr, preexec_fn, close_fds, shell, cwd, env, universal_newlines, startupinfo, creationflags, restore_signals, start_new_session, pass_fds, user, group, extra_groups, encoding, errors, text, umask, pipesize)\u001b[0m\n\u001b[1;32m    967\u001b[0m         \u001b[39mif\u001b[39;00m \u001b[39mself\u001b[39m\u001b[39m.\u001b[39mtext_mode:\n\u001b[1;32m    968\u001b[0m             \u001b[39mself\u001b[39m\u001b[39m.\u001b[39mstderr \u001b[39m=\u001b[39m io\u001b[39m.\u001b[39mTextIOWrapper(\u001b[39mself\u001b[39m\u001b[39m.\u001b[39mstderr,\n\u001b[1;32m    969\u001b[0m                     encoding\u001b[39m=\u001b[39mencoding, errors\u001b[39m=\u001b[39merrors)\n\u001b[0;32m--> 971\u001b[0m     \u001b[39mself\u001b[39;49m\u001b[39m.\u001b[39;49m_execute_child(args, executable, preexec_fn, close_fds,\n\u001b[1;32m    972\u001b[0m                         pass_fds, cwd, env,\n\u001b[1;32m    973\u001b[0m                         startupinfo, creationflags, shell,\n\u001b[1;32m    974\u001b[0m                         p2cread, p2cwrite,\n\u001b[1;32m    975\u001b[0m                         c2pread, c2pwrite,\n\u001b[1;32m    976\u001b[0m                         errread, errwrite,\n\u001b[1;32m    977\u001b[0m                         restore_signals,\n\u001b[1;32m    978\u001b[0m                         gid, gids, uid, umask,\n\u001b[1;32m    979\u001b[0m                         start_new_session)\n\u001b[1;32m    980\u001b[0m \u001b[39mexcept\u001b[39;00m:\n\u001b[1;32m    981\u001b[0m     \u001b[39m# Cleanup if the child failed starting.\u001b[39;00m\n\u001b[1;32m    982\u001b[0m     \u001b[39mfor\u001b[39;00m f \u001b[39min\u001b[39;00m \u001b[39mfilter\u001b[39m(\u001b[39mNone\u001b[39;00m, (\u001b[39mself\u001b[39m\u001b[39m.\u001b[39mstdin, \u001b[39mself\u001b[39m\u001b[39m.\u001b[39mstdout, \u001b[39mself\u001b[39m\u001b[39m.\u001b[39mstderr)):\n",
      "File \u001b[0;32m~/anaconda3/envs/oai/lib/python3.10/subprocess.py:1863\u001b[0m, in \u001b[0;36mPopen._execute_child\u001b[0;34m(self, args, executable, preexec_fn, close_fds, pass_fds, cwd, env, startupinfo, creationflags, shell, p2cread, p2cwrite, c2pread, c2pwrite, errread, errwrite, restore_signals, gid, gids, uid, umask, start_new_session)\u001b[0m\n\u001b[1;32m   1861\u001b[0m     \u001b[39mif\u001b[39;00m errno_num \u001b[39m!=\u001b[39m \u001b[39m0\u001b[39m:\n\u001b[1;32m   1862\u001b[0m         err_msg \u001b[39m=\u001b[39m os\u001b[39m.\u001b[39mstrerror(errno_num)\n\u001b[0;32m-> 1863\u001b[0m     \u001b[39mraise\u001b[39;00m child_exception_type(errno_num, err_msg, err_filename)\n\u001b[1;32m   1864\u001b[0m \u001b[39mraise\u001b[39;00m child_exception_type(err_msg)\n",
      "\u001b[0;31mFileNotFoundError\u001b[0m: [Errno 2] No such file or directory: 'qsub'"
     ]
    }
   ],
   "source": [
    "import subprocess\n",
    "import time\n",
    "import re\n",
    "\n",
    "# Submit the job and capture the output\n",
    "result = subprocess.run(['qsub', 'submit.sh'], stdout=subprocess.PIPE, text=True)\n",
    "output = result.stdout\n",
    "print('Submission output:', output)\n",
    "\n",
    "# Extract the job ID from the output\n",
    "job_id_match = re.search(r'(\\d+)', output)\n",
    "if job_id_match is None:\n",
    "    print('Failed to submit job or parse job ID')\n",
    "    exit(1)\n",
    "\n",
    "job_id = job_id_match.group(1)\n",
    "print('Job ID:', job_id)\n",
    "\n",
    "# Check the job status repeatedly until it's no longer in the queue\n",
    "while True:\n",
    "    # Query the job status\n",
    "    result = subprocess.run(['qstat', '-j', job_id], stdout=subprocess.PIPE, stderr=subprocess.PIPE, text=True)\n",
    "    \n",
    "    # If 'qstat' returns an error, it likely means the job is no longer in the queue\n",
    "    if result.returncode != 0:\n",
    "        print('Job completed or failed')\n",
    "        break\n",
    "    \n",
    "    # Optional: Print the job status\n",
    "    print('Job is still in the queue...')\n",
    "    \n",
    "    # Wait for a short duration before checking again\n",
    "    time.sleep(10)  # Wait for 10 seconds\n"
   ]
  },
  {
   "cell_type": "code",
   "execution_count": null,
   "metadata": {},
   "outputs": [],
   "source": []
  }
 ],
 "metadata": {
  "kernelspec": {
   "display_name": "oai",
   "language": "python",
   "name": "python3"
  },
  "language_info": {
   "codemirror_mode": {
    "name": "ipython",
    "version": 3
   },
   "file_extension": ".py",
   "mimetype": "text/x-python",
   "name": "python",
   "nbconvert_exporter": "python",
   "pygments_lexer": "ipython3",
   "version": "3.10.13"
  }
 },
 "nbformat": 4,
 "nbformat_minor": 2
}
