{
 "cells": [
  {
   "cell_type": "code",
   "execution_count": 1,
   "metadata": {},
   "outputs": [],
   "source": [
    "# !pip install openai\n",
    "# !pip install numpy\n",
    "# !pip install quippy-ase\n",
    "# !pip install python-dotenv"
   ]
  },
  {
   "cell_type": "code",
   "execution_count": 2,
   "metadata": {},
   "outputs": [],
   "source": [
    "from main import *\n",
    "import importlib"
   ]
  },
  {
   "cell_type": "code",
   "execution_count": 3,
   "metadata": {},
   "outputs": [],
   "source": [
    "messages = [\n",
    "    {\n",
    "    \"role\": \"system\",\n",
    "    \"content\": \"You are an expert computational materials scientist. \\nYou are trying to develop the EXACT experimental conditions used to crystallise carbon into diamond.\\nPredict appropriate code for a melt-quench simulation of this system. \\nTry NOT to use an extremely large number of timesteps.\\nThe format of the code should be a LAMMPS input file like:\\n# Phase PHASE:\\nfix integrate all nvt temp T_INITIAL T_FINAL 0.1\\nrun TIMESTEPS\\nunfix integrate\\n\"\n",
    "    },\n",
    "    {\n",
    "    \"role\": \"user\",\n",
    "    \"content\": \"RESULT:\\nSOAP similarity to diamond is 0.1\\nSOAP similarity to graphite is 0.9\\n\\nSCRIPT:\"\n",
    "    },\n",
    "    {\n",
    "    \"role\": \"assistant\",\n",
    "    \"content\": \"# Phase 1: \\nfix integrate all nvt temp 9000 9000 0.1\\nrun 100000\\nunfix integrate\\n\\n# Phase 2: \\nfix integrate all nvt temp 9000 3000 0.1\\nrun 100000 \\nunfix integrate\\n\\n# Phase 3: \\nfix integrate all nvt temp 3000 500 0.1\\nrun 100000 \\nunfix integrate\\n\\n# Phase 4:\\nfix integrate all nvt temp 500 500 0.1\\nrun 100000 \\nunfix integrate\\n\\n# Phase 5:\\nfix integrate all nvt temp 500 300 0.1\\nrun 100000\\nunfix integrate\"\n",
    "    },\n",
    "    {\n",
    "    \"role\": \"user\",\n",
    "    \"content\": \"RESULT:\\nSOAP similarity to diamond is 1.0\\nSOAP similarity to graphite is 0.0\\n\\nSCRIPT:\"\n",
    "    },\n",
    "]\n"
   ]
  },
  {
   "cell_type": "code",
   "execution_count": 4,
   "metadata": {},
   "outputs": [],
   "source": [
    "code, messages, response = query_llm(messages)"
   ]
  },
  {
   "cell_type": "code",
   "execution_count": 5,
   "metadata": {},
   "outputs": [
    {
     "data": {
      "text/plain": [
       "'# Phase 1: \\nfix integrate all nvt temp 5000 5000 0.1\\nrun 50000\\nunfix integrate\\n\\n# Phase 2: \\nfix integrate all nvt temp 5000 3000 0.1\\nrun 50000 \\nunfix integrate\\n\\n# Phase 3: \\nfix integrate all nvt temp 3000 1000 0.1\\nrun 50000 \\nunfix integrate\\n\\n# Phase 4:\\nfix integrate all nvt temp 1000 1000 0.1\\nrun 50000 \\nunfix integrate\\n\\n# Phase 5:\\nfix integrate all nvt temp 1000 300 0.1\\nrun 50000\\nunfix integrate'"
      ]
     },
     "execution_count": 5,
     "metadata": {},
     "output_type": "execute_result"
    }
   ],
   "source": [
    "code # this part made by llm  \n",
    "# \\nfix integrate all nvt temp 5000 5000 0.1\\nrun 50000\\nunfix integrate\\n\\n# Phase 2: \\nfix integrate all nvt temp 5000 3000 0.1\\nrun 50000 \\nunfix integrate\\n\\n# Phase 3: \\nfix integrate all nvt temp 3000 1000 0.1\\nrun 50000 \\nunfix integrate\\n\\n# Phase 4:\\nfix integrate all nvt temp 1000 1000 0.1\\nrun 50000 \\nunfix integrate\\n\\n# Phase 5:\\nfix integrate all nvt temp 1000 300 0.1\\nrun 50000\\nunfix integrate"
   ]
  },
  {
   "cell_type": "code",
   "execution_count": 6,
   "metadata": {},
   "outputs": [
    {
     "name": "stdout",
     "output_type": "stream",
     "text": [
      "formatting experiment for rundir:\n",
      " /home/epsilon/vld/univ5120/VLD/Thesis/llms-for-lammps/run/test_run\n"
     ]
    },
    {
     "data": {
      "text/plain": [
       "('\\nlog /home/epsilon/vld/univ5120/VLD/Thesis/llms-for-lammps/run/test_run/log.dat append\\n\\nunits metal     # mass = g/mole, distance = Å, time = ps, energy = eV, force = eV/Å\\natom_style atomic\\nread_data /home/epsilon/vld/univ5120/VLD/Thesis/llms-for-lammps/structures/example.data\\nmass * 12.011   # all atoms are Carbon and therefore have mass ~12\\n\\npair_style quip\\npair_coeff * * /home/epsilon/vld/univ5120/VLD/Thesis/llms-for-lammps/data/carbon.xml \"\" 6\\n\\nneigh_modify every 1 delay 0 check yes\\ntimestep 0.001\\n\\nvariable nAtoms equal atoms\\n\\nfix removeMomentum all momentum 1 linear 1 1 1\\n\\ncompute T all temp\\nvariable P equal press\\nvariable v equal vol\\nvariable PE_Atom equal c_PE/v_nAtoms\\n\\nfix TempAve all ave/time 100 1.0 100 c_T\\nfix PressAve all ave/time 100 1.0 100 v_P\\nfix vAve all ave/time 100 1.0 100 v_v\\nfix PEAve_Atom all ave/time 100 1.0 100 v_PE_Atom\\n\\ncompute PE all pe pair\\ncompute MSD all msd\\n\\nthermo_style custom step cpu temp f_TempAve press f_PressAve f_PEAve_Atom vol f_vAve c_MSD[4]\\nthermo_modify flush yes\\nthermo 100\\n\\ndump traj all atom 100 /home/epsilon/vld/univ5120/VLD/Thesis/llms-for-lammps/run/test_run/dump_file.dump.*.dat\\n\\nvelocity all create 3000 42\\n\\nrun 0\\n\\n# PHASES:\\n',\n",
       " '/home/epsilon/vld/univ5120/VLD/Thesis/llms-for-lammps/run/test_run')"
      ]
     },
     "execution_count": 6,
     "metadata": {},
     "output_type": "execute_result"
    }
   ],
   "source": [
    "s, rundir = format_experiment()\n",
    "s, rundir "
   ]
  },
  {
   "cell_type": "code",
   "execution_count": 7,
   "metadata": {},
   "outputs": [
    {
     "name": "stdout",
     "output_type": "stream",
     "text": [
      "\n",
      "log /home/epsilon/vld/univ5120/VLD/Thesis/llms-for-lammps/run/test_run/log.dat append\n",
      "\n",
      "units metal     # mass = g/mole, distance = Å, time = ps, energy = eV, force = eV/Å\n",
      "atom_style atomic\n",
      "read_data /home/epsilon/vld/univ5120/VLD/Thesis/llms-for-lammps/structures/example.data\n",
      "mass * 12.011   # all atoms are Carbon and therefore have mass ~12\n",
      "\n",
      "pair_style quip\n",
      "pair_coeff * * /home/epsilon/vld/univ5120/VLD/Thesis/llms-for-lammps/data/carbon.xml \"\" 6\n",
      "\n",
      "neigh_modify every 1 delay 0 check yes\n",
      "timestep 0.001\n",
      "\n",
      "variable nAtoms equal atoms\n",
      "\n",
      "fix removeMomentum all momentum 1 linear 1 1 1\n",
      "\n",
      "compute T all temp\n",
      "variable P equal press\n",
      "variable v equal vol\n",
      "variable PE_Atom equal c_PE/v_nAtoms\n",
      "\n",
      "fix TempAve all ave/time 100 1.0 100 c_T\n",
      "fix PressAve all ave/time 100 1.0 100 v_P\n",
      "fix vAve all ave/time 100 1.0 100 v_v\n",
      "fix PEAve_Atom all ave/time 100 1.0 100 v_PE_Atom\n",
      "\n",
      "compute PE all pe pair\n",
      "compute MSD all msd\n",
      "\n",
      "thermo_style custom step cpu temp f_TempAve press f_PressAve f_PEAve_Atom vol f_vAve c_MSD[4]\n",
      "thermo_modify flush yes\n",
      "thermo 100\n",
      "\n",
      "dump traj all atom 100 /home/epsilon/vld/univ5120/VLD/Thesis/llms-for-lammps/run/test_run/dump_file.dump.*.dat\n",
      "\n",
      "velocity all create 3000 42\n",
      "\n",
      "run 0\n",
      "\n",
      "# PHASES:\n",
      "# Phase 1: \n",
      "fix integrate all nvt temp 5000 5000 0.1\n",
      "run 50000\n",
      "unfix integrate\n",
      "\n",
      "# Phase 2: \n",
      "fix integrate all nvt temp 5000 3000 0.1\n",
      "run 50000 \n",
      "unfix integrate\n",
      "\n",
      "# Phase 3: \n",
      "fix integrate all nvt temp 3000 1000 0.1\n",
      "run 50000 \n",
      "unfix integrate\n",
      "\n",
      "# Phase 4:\n",
      "fix integrate all nvt temp 1000 1000 0.1\n",
      "run 50000 \n",
      "unfix integrate\n",
      "\n",
      "# Phase 5:\n",
      "fix integrate all nvt temp 1000 300 0.1\n",
      "run 50000\n",
      "unfix integrate\n"
     ]
    }
   ],
   "source": [
    "full_code = s + code\n",
    "# f_in=\"/home/jbutch/Projects/Thesis/llms-for-lammps/lammps/test.in\"\n",
    "f_in='/u/vld/univ5120/VLD/Thesis/llms-for-lammps/lammps/test.in'\n",
    "with open(f_in, \"w\") as f:\n",
    "    f.write(full_code)\n",
    "\n",
    "print(full_code)"
   ]
  },
  {
   "cell_type": "code",
   "execution_count": 2,
   "metadata": {},
   "outputs": [
    {
     "name": "stdout",
     "output_type": "stream",
     "text": [
      "[1 1 1 1 1 1 1 1 1 1 1 1 1 1 1 1 1 1 1 1 1 1 1 1 1 1 1 1 1 1 1 1 1 1 1 1 1\n",
      " 1 1 1 1 1 1 1 1 1 1 1 1 1 1 1 1 1 1 1 1 1 1 1 1 1 1 1 1 1 1 1 1 1 1 1 1 1\n",
      " 1 1 1 1 1 1 1 1 1 1 1 1 1 1 1 1 1 1 1 1 1 1 1 1 1 1 1 1 1 1 1 1 1 1 1 1 1\n",
      " 1 1 1 1 1 1 1 1 1 1 1 1 1 1 1 1 1 1 1 1 1 1 1 1 1 1 1 1 1 1 1 1 1 1 1 1 1\n",
      " 1 1 1 1 1 1 1 1 1 1 1 1 1 1 1 1 1 1 1 1 1 1 1 1 1 1 1 1 1 1 1 1 1 1 1 1 1\n",
      " 1 1 1 1 1 1 1 1 1 1 1 1 1 1 1]\n"
     ]
    },
    {
     "data": {
      "text/plain": [
       "(Atoms(symbols='C200', pbc=True, cell=[15.854535682762254, 15.854535682762254, 15.854535682762254]),\n",
       " ({'graphite': 0.1768, 'diamond': 0.9408, 'TARGET': 0.9901},\n",
       "  'RESULT:\\nSOAP Similarity to graphite is 0.1768 \\nSOAP Similarity to diamond is 0.9408 \\nSOAP Similarity to TARGET is 0.9901 \\nSCRIPT:'))"
      ]
     },
     "execution_count": 2,
     "metadata": {},
     "output_type": "execute_result"
    }
   ],
   "source": [
    "import utils\n",
    "from ase.io import read\n",
    "import sys\n",
    "import importlib; importlib.reload(utils)\n",
    "\n",
    "# process dump files .dat to .xyz\n",
    "# f='/u/vld/univ5120/VLD/Thesis/llms-for-lammps/run/test_run/dump_file.dump.50000.dat' # 0.996\n",
    "# f='/u/vld/univ5120/VLD/Thesis/llms-for-lammps/run/test_run/dump_file.dump.100000.dat'  # 0.999\n",
    "f='/u/vld/univ5120/VLD/Thesis/llms-for-lammps/run/test_run/dump_file.dump.250000.dat'  # 0.9901\n",
    "atoms = read(f)\n",
    "print(atoms.get_atomic_numbers())\n",
    "atoms.set_atomic_numbers([6 for i in range(len(atoms))])\n",
    "x = utils.analyse(atoms)\n",
    "atoms, x"
   ]
  },
  {
   "cell_type": "code",
   "execution_count": 31,
   "metadata": {},
   "outputs": [],
   "source": [
    "from dscribe.descriptors import SOAP\n",
    "from ase.io import read, write\n",
    "from ase import build\n",
    "import numpy as np\n",
    "dia_at = build.bulk('C', 'diamond', a=3.567)\n",
    "gra_at = build.graphene('C2', a=2.46)\n",
    "write('structures/diamond.xyz', dia_at)\n",
    "write('structures/graphite.xyz', gra_at)"
   ]
  },
  {
   "cell_type": "code",
   "execution_count": 24,
   "metadata": {},
   "outputs": [],
   "source": [
    "dia_supercell = dia_at * (2, 2, 2)\n",
    "gra_supercell = gra_at * (3, 3, 1)\n",
    "\n",
    "# Define the magnitude of random perturbation\n",
    "perturbation_magnitude = 0.001  # e.g., 0.01 Angstrom\n",
    "\n",
    "# Apply random perturbations to atomic positions\n",
    "dia_supercell.positions += (np.random.rand(*dia_supercell.positions.shape)) * perturbation_magnitude\n",
    "gra_supercell.positions += (np.random.rand(*gra_supercell.positions.shape)) * perturbation_magnitude\n",
    "\n",
    "# Save the structures to XYZ files\n",
    "write('structures/diamond_supercell.xyz', dia_supercell)\n",
    "write('structures/graphite_supercell.xyz', gra_supercell)"
   ]
  },
  {
   "cell_type": "code",
   "execution_count": null,
   "metadata": {},
   "outputs": [],
   "source": []
  }
 ],
 "metadata": {
  "kernelspec": {
   "display_name": "oai",
   "language": "python",
   "name": "python3"
  },
  "language_info": {
   "codemirror_mode": {
    "name": "ipython",
    "version": 3
   },
   "file_extension": ".py",
   "mimetype": "text/x-python",
   "name": "python",
   "nbconvert_exporter": "python",
   "pygments_lexer": "ipython3",
   "version": "3.11.5"
  }
 },
 "nbformat": 4,
 "nbformat_minor": 2
}
